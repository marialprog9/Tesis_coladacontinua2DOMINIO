{
 "cells": [
  {
   "cell_type": "code",
   "execution_count": 15,
   "id": "15768871-e48f-42e6-8562-58d2d721fbb1",
   "metadata": {},
   "outputs": [
    {
     "name": "stdout",
     "output_type": "stream",
     "text": [
      "FUNCIONA, DOMINIO MEJORADO\n",
      " Etiqueta: 0 interiore, 1 rodillo x = 0, simetria x = R, 3 top y = 0, 4 botton (y = H)\n",
      "✅ Dominio generado correctamente:\n",
      "   X ∈ [0.0, 0.9225]\n",
      "   Y ∈ [0.0, 0.375]\n",
      "   Malla con 60 x 40 celdas\n",
      "📦 Malla exportada a dominio_simplificado.vtu (abre en ParaView o GridapMakie)\n",
      "FUNCIONA HASTA AQUI\n"
     ]
    }
   ],
   "source": [
    "###############################################################################\n",
    "# DOMINIO TESIS - COLADA CONTINUA DE DOBLE RODILLO\n",
    "###############################################################################\n",
    "using Plots\n",
    "using Gridap\n",
    "\n",
    "# ==============================\n",
    "# PARÁMETROS GEOMÉTRICOS\n",
    "# ==============================\n",
    "R  = 0.25         # Radio del rodillo [m]\n",
    "H  = 0.125        # Longitud vertical de la lámina [m]\n",
    "W2 = 0.6725       # Mitad del ancho total [m]\n",
    "tol = 1e-6  #tolerancia numerica (base)\n",
    "\n",
    "\n",
    "# Dominio en coordenadas globales\n",
    "# Origen en la parte superior del rodillo izquierdo\n",
    "# Eje X → derecha, Eje Y → hacia abajo\n",
    "x_min = 0.0\n",
    "x_max = R + W2     # desde el borde del rodillo hasta el centro de la lámina\n",
    "y_min = 0.0\n",
    "y_max = H + R       # altura total (rodillo + lámina)\n",
    "\n",
    "# ==============================\n",
    "# CREAR DOMINIO Y MALLADO\n",
    "# ==============================\n",
    "# Definimos el dominio rectangular que contiene todo\n",
    "domain = (x_min, x_max, y_min, y_max)\n",
    "\n",
    "# Discretización (resolución de la malla)(PROBANDO POR SI DESPUES LE PONEMOS MAS O MENOS)\n",
    "nx = 60   # elementos en x\n",
    "ny = 40   # elementos en y\n",
    "\n",
    "# Modelo discreto (malla cartesiana)\n",
    "model = CartesianDiscreteModel(domain, (nx, ny))\n",
    "\n",
    "\n",
    "\n",
    "\n",
    "println(\"FUNCIONA, DOMINIO MEJORADO\")\n",
    "println(\" Etiqueta: 0 interiore, 1 rodillo x = 0, simetria x = R, 3 top y = 0, 4 botton (y = H)\")\n",
    "\n",
    "\n",
    "\n",
    "println(\"✅ Dominio generado correctamente:\")\n",
    "println(\"   X ∈ [$(x_min), $(x_max)]\")\n",
    "println(\"   Y ∈ [$(y_min), $(y_max)]\")\n",
    "println(\"   Malla con $(nx) x $(ny) celdas\")\n",
    "\n",
    "# ==============================\n",
    "# VISUALIZAR (PRUEBA 1 DEL PARAVIEW)\n",
    "# ==============================\n",
    "writevtk(model, \"dominio_simplificado\")\n",
    "println(\"📦 Malla exportada a dominio_simplificado.vtu (abre en ParaView o GridapMakie)\")\n",
    "println(\"FUNCIONA HASTA AQUI\")\n"
   ]
  },
  {
   "cell_type": "code",
   "execution_count": 16,
   "id": "a3bcf8a7-c111-4a61-b544-df8f3e0a6d96",
   "metadata": {},
   "outputs": [
    {
     "name": "stdout",
     "output_type": "stream",
     "text": [
      "✅ Archivo 'dominio_numerico.vtu' generado correctamente.\n",
      "   Contiene arco + líneas rectas que definen el dominio.\n"
     ]
    }
   ],
   "source": [
    "using LinearAlgebra\n",
    "using WriteVTK   \n",
    "using Printf\n",
    "\n",
    "# --- Parámetros geométricos\n",
    "R  = 0.25\n",
    "H  = 0.125\n",
    "W2 = 0.6725\n",
    "\n",
    "# --- Generar puntos del arco (rodillo)\n",
    "n_arc = 60\n",
    "θ = range(-π/2, π/2, length=n_arc)\n",
    "x_arc = [R*(1 - cos(t)) for t in θ]\n",
    "y_arc = [R*sin(t) for t in θ]\n",
    "\n",
    "# --- Líneas rectas\n",
    "# Entrada (superior)\n",
    "x_top = range(R, R+W2, length=30)\n",
    "y_top = fill(0.0, length(x_top))\n",
    "\n",
    "# Salida (inferior)\n",
    "x_bottom = range(R, R+W2, length=30)\n",
    "y_bottom = fill(H, length(x_bottom))\n",
    "\n",
    "# Línea de simetría\n",
    "y_sym = range(0.0, H, length=30)\n",
    "x_sym = fill(R+W2, length(y_sym))\n",
    "\n",
    "# --- Concatenar todos los puntos para exportar\n",
    "x_all = vcat(x_arc, x_top, x_sym, reverse(x_bottom))\n",
    "y_all = vcat(y_arc, y_top, y_sym, reverse(y_bottom))\n",
    "\n",
    "# --- Exportar a archivo VTK para ParaView\n",
    "vtkfile = vtk_grid(\"dominio_numerico\", x_all, y_all)\n",
    "vtk_save(vtkfile)\n",
    "\n",
    "println(\"✅ Archivo 'dominio_numerico.vtu' generado correctamente.\")\n",
    "println(\"   Contiene arco + líneas rectas que definen el dominio.\")\n"
   ]
  },
  {
   "cell_type": "code",
   "execution_count": 17,
   "id": "04121768-2c4f-4295-baac-057ab8873462",
   "metadata": {},
   "outputs": [
    {
     "data": {
      "text/plain": [
       ":equal"
      ]
     },
     "execution_count": 17,
     "metadata": {},
     "output_type": "execute_result"
    }
   ],
   "source": [
    "using Plots\n",
    "plot(x_arc, y_arc, label=\"Rodillo\", lw=2, color=:blue)\n",
    "plot!(x_top, y_top, label=\"Entrada\", lw=2, color=:green)\n",
    "plot!(x_bottom, y_bottom, label=\"Salida\", lw=2, color=:red)\n",
    "plot!(x_sym, y_sym, label=\"Simetría\", lw=2, color=:purple)\n",
    "xlabel!(\"x [m]\")\n",
    "ylabel!(\"y [m]\")\n",
    "title!(\"Dominio geométrico (mitad)\")\n",
    "aspect_ratio=:equal\n"
   ]
  },
  {
   "cell_type": "code",
   "execution_count": null,
   "id": "d0d6bacc-7c70-4929-990f-492e5dbd9786",
   "metadata": {},
   "outputs": [],
   "source": []
  }
 ],
 "metadata": {
  "kernelspec": {
   "display_name": "Julia 1.11.7",
   "language": "julia",
   "name": "julia-1.11"
  },
  "language_info": {
   "file_extension": ".jl",
   "mimetype": "application/julia",
   "name": "julia",
   "version": "1.11.7"
  }
 },
 "nbformat": 4,
 "nbformat_minor": 5
}
