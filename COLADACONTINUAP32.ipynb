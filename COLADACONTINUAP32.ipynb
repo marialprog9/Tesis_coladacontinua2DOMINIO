{
 "cells": [
  {
   "cell_type": "code",
   "execution_count": 7,
   "id": "97b57280-0761-4b7e-8a95-745b38732230",
   "metadata": {},
   "outputs": [
    {
     "name": "stdout",
     "output_type": "stream",
     "text": [
      "Definicion del dominio: Ancho = 0.6725 m, alto = 0.125 m\n"
     ]
    },
    {
     "data": {
      "text/plain": [
       "0.2"
      ]
     },
     "execution_count": 7,
     "metadata": {},
     "output_type": "execute_result"
    }
   ],
   "source": [
    "using Gridap\n",
    "using LinearAlgebra\n",
    "using SparseArrays\n",
    "using GridapGmsh\n",
    "\n",
    "#Geometria\n",
    "R = 0.25  # Radio del rodillo (m)\n",
    "Rl = 0.001 # Espesor de la lamina (m)\n",
    "w = 1.345 # Ancho de la lámina (m)\n",
    "w2 = w/2 # ancho medio (m)\n",
    "H = 0.125 # Espesor de lamina (m)\n",
    "\n",
    "#DOMINIOS\n",
    "\n",
    "\n",
    "\n",
    "\n"
   ]
  },
  {
   "cell_type": "code",
   "execution_count": null,
   "id": "e9b87e76-488b-44cb-9eb6-16c5ec8e13b2",
   "metadata": {},
   "outputs": [],
   "source": []
  },
  {
   "cell_type": "code",
   "execution_count": null,
   "id": "c5ce8cf7-0c13-47ac-a2cb-5ff4317871e6",
   "metadata": {},
   "outputs": [],
   "source": [
    "using Gmsh\n",
    "\n",
    "# ----------------------------\n",
    "# Parámetros geométricos (Schneider)\n",
    "R  = 0.25          # Radio del rodillo (m)\n",
    "W  = 1.345         # Ancho total lámina (m)\n",
    "W2 = W/2.0         # Mitad del ancho (0.6725 m)\n",
    "H  = 0.125         # Altura total (m)\n",
    "\n",
    "# Centro del rodillo en coordenadas globales\n",
    "x_c_global = W2 + R        # 0.9225 m\n",
    "y_c_global = H/2.0         # 0.0625 m\n",
    "\n",
    "# --- Origen en la parte superior del rodillo (todo positivo) ---\n",
    "origin_x = x_c_global - R  # punto más izquierdo del rodillo => 0\n",
    "origin_y = 0.0             # top (entrada) => 0\n",
    "\n",
    "# Centro del rodillo en coordenadas locales (trasladado al nuevo origen)\n",
    "x_c = x_c_global - origin_x\n",
    "y_c = y_c_global - origin_y\n",
    "\n",
    "# Mallado\n",
    "lc = 0.005         # Tamaño característico de los elementos\n",
    "npts_arc = 60      # Resolución del arco\n",
    "# ----------------------------\n",
    "\n",
    "# Inicializar Gmsh\n",
    "Gmsh.initialize()\n",
    "Gmsh.option.setNumber(\"General.Terminal\", 1)\n",
    "Gmsh.model.add(\"dominio_schneider\")\n",
    "\n",
    "# ----------------------------\n",
    "# 1) Semicircunferencia (lado derecho del rodillo)\n",
    "angles = range(-π/2, π/2, length=npts_arc)\n",
    "pt_ids = Int[]\n",
    "for θ in angles\n",
    "    x = x_c + R*cos(θ)   # lado derecho\n",
    "    y = y_c + R*sin(θ)\n",
    "    push!(pt_ids, Gmsh.model.occ.addPoint(x, y, 0.0, lc))\n",
    "end\n",
    "\n",
    "# ----------------------------\n",
    "# 2) Puntos clave\n",
    "p_sym_top   = Gmsh.model.occ.addPoint(0.0, 0.0, 0.0, lc)   # Simetría superior\n",
    "p_sym_bot   = Gmsh.model.occ.addPoint(0.0, H, 0.0, lc)     # Simetría inferior\n",
    "p_trans_top = Gmsh.model.occ.addPoint(W2 - origin_x, 0.0, 0.0, lc) # transición superior\n",
    "\n",
    "# ----------------------------\n",
    "# 3) Crear líneas\n",
    "line_ids = Int[]\n",
    "for i in 1:(length(pt_ids)-1)\n",
    "    push!(line_ids, Gmsh.model.occ.addLine(pt_ids[i], pt_ids[i+1]))\n",
    "end\n",
    "\n",
    "l_trans = Gmsh.model.occ.addLine(pt_ids[end], p_trans_top)  # transición rodillo -> top\n",
    "l_top   = Gmsh.model.occ.addLine(p_trans_top, p_sym_top)    # borde superior\n",
    "l_sym   = Gmsh.model.occ.addLine(p_sym_top, p_sym_bot)      # eje de simetría\n",
    "l_bot   = Gmsh.model.occ.addLine(p_sym_bot, pt_ids[1])      # borde inferior\n",
    "\n",
    "all_lines = vcat(line_ids, [l_trans, l_top, l_sym, l_bot])\n",
    "\n",
    "# ----------------------------\n",
    "# 4) Superficie cerrada\n",
    "cloop = Gmsh.model.occ.addCurveLoop(all_lines)\n",
    "surf  = Gmsh.model.occ.addPlaneSurface([cloop])\n",
    "Gmsh.model.occ.synchronize()\n",
    "\n",
    "# ----------------------------\n",
    "# 5) Etiquetas físicas\n",
    "Gmsh.model.addPhysicalGroup(2, [surf], 100)       # dominio\n",
    "Gmsh.model.addPhysicalGroup(1, [l_sym], 1)        # 1 = simetría\n",
    "Gmsh.model.addPhysicalGroup(1, [l_top], 2)        # 2 = entrada superior\n",
    "Gmsh.model.addPhysicalGroup(1, [l_bot], 3)        # 3 = salida inferior\n",
    "Gmsh.model.addPhysicalGroup(1, line_ids, 4)       # 4 = rodillo (arco)\n",
    "Gmsh.model.addPhysicalGroup(1, [l_trans], 5)      # 5 = transición piscina-rodillo\n",
    "\n",
    "# ----------------------------\n",
    "# 6) Mallar y guardar\n",
    "Gmsh.model.mesh.generate(2)\n",
    "Gmsh.write(\"dominio_marialaura.msh\")\n",
    "println(\"✅ Malla guardada: dominio_marialaura.msh\")\n",
    "\n",
    "Gmsh.finalize()"
   ]
  }
 ],
 "metadata": {
  "kernelspec": {
   "display_name": "Julia 1.11.7",
   "language": "julia",
   "name": "julia-1.11"
  },
  "language_info": {
   "file_extension": ".jl",
   "mimetype": "application/julia",
   "name": "julia",
   "version": "1.11.7"
  }
 },
 "nbformat": 4,
 "nbformat_minor": 5
}
